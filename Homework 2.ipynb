{
 "cells": [
  {
   "cell_type": "markdown",
   "metadata": {},
   "source": [
    "## HW #2"
   ]
  },
  {
   "cell_type": "code",
   "execution_count": 1,
   "metadata": {},
   "outputs": [
    {
     "name": "stdout",
     "output_type": "stream",
     "text": [
      "[['O' '0.000000' '-0.007156' '0.965491']\n",
      " ['H1' '-0.000000' '0.001486' '-0.003471']\n",
      " ['H2' '0.000000' '0.931026' '1.207929']]\n"
     ]
    }
   ],
   "source": [
    "import numpy\n",
    "import os\n",
    "water_file = os.path.join('data','water.xyz')\n",
    "\n",
    "water_coordinates = numpy.genfromtxt(fname=water_file, delimiter='',skip_header=2,dtype='unicode')\n",
    "print(water_coordinates)"
   ]
  },
  {
   "cell_type": "code",
   "execution_count": 2,
   "metadata": {},
   "outputs": [
    {
     "name": "stdout",
     "output_type": "stream",
     "text": [
      "[['0.000000' '-0.007156' '0.965491']\n",
      " ['-0.000000' '0.001486' '-0.003471']\n",
      " ['0.000000' '0.931026' '1.207929']]\n"
     ]
    }
   ],
   "source": [
    "atoms=water_coordinates[:,1:]\n",
    "print(atoms)"
   ]
  },
  {
   "cell_type": "code",
   "execution_count": 3,
   "metadata": {},
   "outputs": [
    {
     "name": "stdout",
     "output_type": "stream",
     "text": [
      "['O']\n"
     ]
    }
   ],
   "source": [
    "atom_headers= water_coordinates[:,:1]\n",
    "print(atom_headers[0])\n"
   ]
  },
  {
   "cell_type": "code",
   "execution_count": 4,
   "metadata": {},
   "outputs": [
    {
     "name": "stdout",
     "output_type": "stream",
     "text": [
      "[[ 0.       -0.007156  0.965491]\n",
      " [-0.        0.001486 -0.003471]\n",
      " [ 0.        0.931026  1.207929]]\n"
     ]
    }
   ],
   "source": [
    "atoms = atoms.astype(numpy.float)\n",
    "print(atoms)"
   ]
  },
  {
   "cell_type": "code",
   "execution_count": 5,
   "metadata": {},
   "outputs": [
    {
     "name": "stdout",
     "output_type": "stream",
     "text": [
      "3\n"
     ]
    }
   ],
   "source": [
    "num_columns = len(atom_headers)\n",
    "print(num_columns)"
   ]
  },
  {
   "cell_type": "code",
   "execution_count": 8,
   "metadata": {},
   "outputs": [
    {
     "name": "stdout",
     "output_type": "stream",
     "text": [
      "['O'] to ['O']:0.000\n",
      "['O'] to ['H1']:0.969\n",
      "['O'] to ['H2']:0.969\n",
      "['H1'] to ['O']:0.969\n",
      "['H1'] to ['H1']:0.000\n",
      "['H1'] to ['H2']:1.527\n",
      "['H2'] to ['O']:0.969\n",
      "['H2'] to ['H1']:1.527\n",
      "['H2'] to ['H2']:0.000\n"
     ]
    }
   ],
   "source": [
    "#Looking for distances among all atoms\n",
    "\n",
    "for i in range(0,num_columns):\n",
    "    for j in range(0,num_columns):\n",
    "        x_coord= (atoms[i,0]-atoms[j,0])**2\n",
    "        y_coord= (atoms[i,1]-atoms[j,1])**2\n",
    "        z_coord= (atoms[i,2]-atoms[j,2])**2\n",
    "        distance=numpy.sqrt(x_coord+y_coord+z_coord)\n",
    "        print(F'{atom_headers[i]} to {atom_headers[j]}:{distance:.3f}')\n",
    "        \n",
    "\n",
    "   "
   ]
  },
  {
   "cell_type": "code",
   "execution_count": null,
   "metadata": {},
   "outputs": [],
   "source": []
  },
  {
   "cell_type": "code",
   "execution_count": null,
   "metadata": {},
   "outputs": [],
   "source": []
  }
 ],
 "metadata": {
  "kernelspec": {
   "display_name": "Python 3",
   "language": "python",
   "name": "python3"
  },
  "language_info": {
   "codemirror_mode": {
    "name": "ipython",
    "version": 3
   },
   "file_extension": ".py",
   "mimetype": "text/x-python",
   "name": "python",
   "nbconvert_exporter": "python",
   "pygments_lexer": "ipython3",
   "version": "3.7.6"
  }
 },
 "nbformat": 4,
 "nbformat_minor": 4
}
